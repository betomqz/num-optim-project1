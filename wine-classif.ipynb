{
 "cells": [
  {
   "cell_type": "markdown",
   "metadata": {},
   "source": [
    "# Leer base de datos\n",
    "\n",
    "Archivo para probar la lectura de los datos de [UC Irvine ML Repository](https://archive.ics.uci.edu/dataset/109/wine)."
   ]
  },
  {
   "cell_type": "code",
   "execution_count": 1,
   "metadata": {},
   "outputs": [],
   "source": [
    "import numpy as np\n",
    "import pandas as pd\n",
    "from myqp import myqp_intpoint_proy\n",
    "import matplotlib.pyplot as plt"
   ]
  },
  {
   "cell_type": "code",
   "execution_count": 2,
   "metadata": {},
   "outputs": [],
   "source": [
    "df = pd.read_csv('wine.data')"
   ]
  },
  {
   "cell_type": "markdown",
   "metadata": {},
   "source": [
    "## Función a minimizar\n",
    "\n",
    "El objetivo es minimizar \n",
    "$$\\frac{1}{2} w^{\\tau}w$$ \n",
    "sujeto a \n",
    "$$ \n",
    "\\begin{align*}\n",
    "w^{\\tau}x_i + \\beta &\\leq -1, \\quad i = 1, 2, \\ldots, s \\\\\n",
    "w^{\\tau}x_i + \\beta &\\geq 1, \\quad i = s+1, s+2, \\ldots, s+r, \\\\\n",
    "\\end{align*}\n",
    "$$\n",
    "con las variables $w \\in \\mathbb{R}^n$, $\\beta \\in \\mathbb{R}$"
   ]
  },
  {
   "cell_type": "code",
   "execution_count": 3,
   "metadata": {},
   "outputs": [],
   "source": [
    "A = df[df['class'] == 1]\n",
    "B = df[df['class'] == 2]\n",
    "C = df[df['class'] == 3]"
   ]
  },
  {
   "cell_type": "code",
   "execution_count": 4,
   "metadata": {},
   "outputs": [],
   "source": [
    "X_A = A.drop(columns=['class'])\n",
    "y_A = A['class']\n",
    "X_B = B.drop(columns=['class'])\n",
    "y_B = B['class']\n",
    "X_C = C.drop(columns=['class'])\n",
    "y_C = C['class']"
   ]
  },
  {
   "cell_type": "code",
   "execution_count": 5,
   "metadata": {},
   "outputs": [
    {
     "data": {
      "text/plain": [
       "(59, 13)"
      ]
     },
     "execution_count": 5,
     "metadata": {},
     "output_type": "execute_result"
    }
   ],
   "source": [
    "X_A.shape"
   ]
  },
  {
   "cell_type": "code",
   "execution_count": 6,
   "metadata": {},
   "outputs": [],
   "source": [
    "# s y r son el número de filas de A y B, respectivamente\n",
    "# n es el número de columnas que tienen A y B y es el tamaño de nuestra w\n",
    "(s, n) = X_A.shape\n",
    "r = X_B.shape[0]"
   ]
  },
  {
   "cell_type": "code",
   "execution_count": 7,
   "metadata": {},
   "outputs": [],
   "source": [
    "Q = np.eye(n)\n",
    "c = np.zeros(n)\n",
    "F = np.concatenate((-X_A, X_B))\n",
    "beta = 10\n",
    "d = np.concatenate((np.ones(s) + beta, np.ones(r) - beta))"
   ]
  },
  {
   "cell_type": "markdown",
   "metadata": {},
   "source": [
    "---\n",
    "\n",
    "$$\\frac{1}{2} w^{\\tau}w$$ \n",
    "sujeto a \n",
    "$$ \n",
    "\\begin{align*}\n",
    "-w^{\\tau}x_i &\\geq 1 + \\beta, \\quad i = 1, 2, \\ldots, s \\\\\n",
    "w^{\\tau}x_i &\\geq 1 - \\beta, \\quad i = s+1, s+2, \\ldots, s+r, \\\\\n",
    "\\end{align*}\n",
    "$$"
   ]
  },
  {
   "cell_type": "code",
   "execution_count": 8,
   "metadata": {},
   "outputs": [],
   "source": [
    "w,mu,z,iter = myqp_intpoint_proy(Q, F, c, d, verbose=False)"
   ]
  },
  {
   "cell_type": "code",
   "execution_count": 9,
   "metadata": {},
   "outputs": [
    {
     "name": "stdout",
     "output_type": "stream",
     "text": [
      "El valor de la función objetivo es 39.4414206225728\n"
     ]
    }
   ],
   "source": [
    "# valor de la función objetivo\n",
    "print(f\"El valor de la función objetivo es {np.dot(w,w)}\")"
   ]
  },
  {
   "cell_type": "code",
   "execution_count": 10,
   "metadata": {},
   "outputs": [
    {
     "data": {
      "text/plain": [
       "array([ -7.25226783,  -7.92698534, -11.22344886, -17.32449515,\n",
       "        -1.00000005, -16.0025566 , -11.94967121, -11.2864576 ,\n",
       "        -6.21073482,  -7.42782356, -14.607566  ,  -9.35120243,\n",
       "       -12.0425962 , -10.59905352, -19.15215316, -12.87651496,\n",
       "       -11.33440669,  -8.28022011, -20.96388513,  -6.34324587,\n",
       "        -1.00000027,  -3.73167032,  -5.49498479,  -4.95800683,\n",
       "        -1.00000062,  -1.00000002, -11.32966915,  -8.90822989,\n",
       "        -3.39244637,  -4.70040728,  -9.49367399, -15.33163877,\n",
       "        -3.58166799,  -8.32789458,  -6.60134758,  -2.97297289,\n",
       "        -5.16606237,  -6.82581464,  -4.08906978,  -6.05815827,\n",
       "        -2.66265361,  -7.35292831, -10.83106896,  -2.13470107,\n",
       "        -3.0485042 ,  -9.41070034,  -8.71538117,  -6.05641206,\n",
       "        -6.49361894, -12.22549694, -10.75253491, -11.02261421,\n",
       "       -12.20535594, -13.72699589,  -7.1121592 ,  -6.8707921 ,\n",
       "        -5.3292317 , -13.24323968, -13.41271366])"
      ]
     },
     "execution_count": 10,
     "metadata": {},
     "output_type": "execute_result"
    }
   ],
   "source": [
    "# Todos tendrían que ser <= -1\n",
    "np.dot(X_A, w) + beta"
   ]
  },
  {
   "cell_type": "code",
   "execution_count": 11,
   "metadata": {},
   "outputs": [
    {
     "data": {
      "text/plain": [
       "array([ 9.59073566,  4.6286704 ,  7.18597144,  6.82601296,  8.27744825,\n",
       "       10.51926929,  1.35461254,  6.03517664,  7.82781294,  3.34705972,\n",
       "        7.36566973,  1.0000003 , 10.48507559,  9.27694263,  2.43271049,\n",
       "        1.00000006,  8.11514819, 10.33454252,  5.43929735,  3.16412963,\n",
       "        6.67917917, 14.02934742,  1.92563511,  7.84702425,  3.75961198,\n",
       "        4.09917927,  9.51006017,  9.97076069,  8.72256883,  2.96329952,\n",
       "        7.66858717,  7.08397128,  8.75521099,  7.78154517,  9.59435791,\n",
       "        8.77700688,  1.00000012,  4.32169883,  8.37351128,  2.13893381,\n",
       "        7.39310706,  4.2904442 ,  8.05423062,  6.20960508, 10.52865475,\n",
       "        5.36105542,  9.88990774,  6.04856203,  7.46602077, 11.63855583,\n",
       "        1.00000014,  3.76714091,  9.99554551,  1.00000003,  8.85663287,\n",
       "        8.865131  , 12.71346939,  9.33339273, 12.2240543 ,  5.76227081,\n",
       "        5.14001884,  1.00000026,  1.00000017,  7.25424396,  3.92043064,\n",
       "        3.58411914,  8.02676561,  7.27317094,  8.00781865, 11.26760464,\n",
       "        1.85137804])"
      ]
     },
     "execution_count": 11,
     "metadata": {},
     "output_type": "execute_result"
    }
   ],
   "source": [
    "# Todos tendrían que ser >= 1\n",
    "np.dot(X_B, w) + beta"
   ]
  },
  {
   "cell_type": "markdown",
   "metadata": {},
   "source": [
    "---\n",
    "\n",
    "## Meter $\\beta$ en el vector de variables\n",
    "\n",
    "Sea $\\hat{w} = (w_1, w_2, \\ldots, w_n, \\beta)$. Entonces queremos minimizar\n",
    "\n",
    "$$\\frac{1}{2} \\hat{w}^{\\tau} Q \\hat{w} = \\frac{1}{2}(w_1^2 + w_2^2 + \\cdots + w_n^2)$$ \n",
    "sujeto a \n",
    "$$ \n",
    "\\begin{align*}\n",
    "-w^{\\tau}x_i - \\beta &\\geq 1, \\quad i = 1, 2, \\ldots, s \\\\\n",
    "w^{\\tau}x_i + \\beta &\\geq 1, \\quad i = s+1, s+2, \\ldots, s+r, \\\\\n",
    "\\end{align*}\n",
    "$$\n",
    "\n",
    "donde \n",
    "$$ Q = \\begin{pmatrix}\n",
    "1 & 0 & \\cdots & 0 & 0 \\\\\n",
    "0 & 1 & \\cdots & 0 & 0 \\\\\n",
    "\\vdots & \\vdots & \\ddots & \\vdots & \\vdots \\\\\n",
    "0 & 0 & \\cdots & 1 & 0 \\\\\n",
    "0 & 0 & \\cdots & 0 & 0\n",
    "\\end{pmatrix} \\in \\mathbb{R}^{(n+1) \\times {(n+1)}}\n",
    "$$"
   ]
  },
  {
   "cell_type": "markdown",
   "metadata": {},
   "source": [
    "## Para A y B"
   ]
  },
  {
   "cell_type": "code",
   "execution_count": 12,
   "metadata": {},
   "outputs": [
    {
     "name": "stdout",
     "output_type": "stream",
     "text": [
      "iter= 1 | ||cnpo||= 20829.824282074962\n",
      "iter= 2 | ||cnpo||= 9722.298950268378\n",
      "iter= 3 | ||cnpo||= 4117.119032379592\n",
      "iter= 4 | ||cnpo||= 1265.1377238476261\n",
      "iter= 5 | ||cnpo||= 543.1324720825103\n",
      "iter= 6 | ||cnpo||= 317.1816691042895\n",
      "iter= 7 | ||cnpo||= 67.23178079968748\n",
      "iter= 8 | ||cnpo||= 3.364287285322375\n",
      "iter= 9 | ||cnpo||= 0.49990821668993946\n",
      "iter= 10 | ||cnpo||= 0.08203615566474338\n",
      "iter= 11 | ||cnpo||= 0.025933534202983232\n",
      "iter= 12 | ||cnpo||= 0.01356260356474455\n",
      "iter= 13 | ||cnpo||= 0.007146092851240724\n",
      "iter= 14 | ||cnpo||= 0.003761926433348183\n",
      "iter= 15 | ||cnpo||= 0.0019781946548299697\n",
      "iter= 16 | ||cnpo||= 0.0010394801623658369\n",
      "iter= 17 | ||cnpo||= 0.0005459883863643777\n",
      "iter= 18 | ||cnpo||= 0.0002867167066983712\n",
      "iter= 19 | ||cnpo||= 0.0001505464628258465\n",
      "iter= 20 | ||cnpo||= 7.904247762320719e-05\n",
      "iter= 21 | ||cnpo||= 4.149884286878598e-05\n",
      "iter= 22 | ||cnpo||= 2.1787317967029385e-05\n",
      "iter= 23 | ||cnpo||= 1.14384592605149e-05\n",
      "iter= 24 | ||cnpo||= 6.005223458961904e-06\n",
      "6.65926643622883\n",
      "23.24185986559408\n"
     ]
    }
   ],
   "source": [
    "# s y r son el número de filas de A y B, respectivamente\n",
    "# n es el número de columnas que tienen A y B y es el tamaño de nuestra w\n",
    "(s, n) = X_A.shape\n",
    "r = X_B.shape[0]\n",
    "\n",
    "# Agregamos la variable de la beta\n",
    "n += 1\n",
    "\n",
    "Q = np.eye(n)\n",
    "Q[-1][-1] = 0\n",
    "c = np.zeros(n)\n",
    "F = np.concatenate((-X_A, X_B))\n",
    "aux = np.concatenate((-np.ones(s),np.ones(r)))\n",
    "F = np.c_[F, aux]\n",
    "d = np.ones(s+r)\n",
    "\n",
    "w_hat,mu,z,iter = myqp_intpoint_proy(Q, F, c, d, verbose=True)\n",
    "\n",
    "w = w_hat[:-1]\n",
    "beta = w_hat[-1]\n",
    "\n",
    "# valor de la función objetivo sin tomar en cuenta a beta\n",
    "print(np.dot(w,w))\n",
    "\n",
    "# beta\n",
    "print(beta)\n",
    "\n",
    "# Todos tendrían que ser <= -1\n",
    "AT_w = np.dot(X_A, w) + beta\n",
    "\n",
    "# Todos tendrían que ser >= 1\n",
    "BT_w = np.dot(X_B, w) + beta"
   ]
  },
  {
   "cell_type": "code",
   "execution_count": 13,
   "metadata": {},
   "outputs": [
    {
     "name": "stderr",
     "output_type": "stream",
     "text": [
      "C:\\Users\\betom\\AppData\\Local\\Temp\\ipykernel_18248\\3143449184.py:4: MatplotlibDeprecationWarning: The seaborn styles shipped by Matplotlib are deprecated since 3.6, as they no longer correspond to the styles shipped by seaborn. However, they will remain available as 'seaborn-v0_8-<style>'. Alternatively, directly use the seaborn API instead.\n",
      "  plt.style.use('seaborn-whitegrid')\n"
     ]
    },
    {
     "data": {
      "image/png": "[encoded data removed]",
      "text/plain": [
       "<Figure size 1200x800 with 1 Axes>"
      ]
     },
     "metadata": {},
     "output_type": "display_data"
    }
   ],
   "source": [
    "# graficar\n",
    "plt.rcParams['text.usetex'] = True\n",
    "plt.rcParams['text.latex.preamble'] = r'\\usepackage{amsfonts}'\n",
    "plt.style.use('seaborn-whitegrid')\n",
    "plt.rc('font', size=16)\n",
    "\n",
    "myred = \"#F95252\"\n",
    "myblue = \"#2ab0ff\"\n",
    "\n",
    "fig, ax = plt.subplots(figsize=(12,8))\n",
    "len_A = np.arange(len(AT_w))\n",
    "ax.scatter(len_A+1, AT_w, c=myred, label=r\"$\\mathbb{A}^Tw+\\beta$\")\n",
    "ax.scatter(np.arange(len(AT_w), len(BT_w)+len(AT_w))+1, BT_w, color=myblue, label=r\"$\\mathbb{B}^Tw+\\beta$\")\n",
    "plt.vlines(len_A+1, ymin = AT_w, ymax = -1, colors=myred)\n",
    "plt.vlines(np.arange(len(AT_w), len(BT_w)+len(AT_w))+1, ymin = 1, ymax = BT_w, colors=myblue)\n",
    "ax.legend()\n",
    "ax.set_title(\"Verificación de restricciones\")\n",
    "plt.savefig('outputs/AvsB.pdf', format='pdf')"
   ]
  },
  {
   "cell_type": "markdown",
   "metadata": {},
   "source": [
    "## B y C"
   ]
  },
  {
   "cell_type": "code",
   "execution_count": 14,
   "metadata": {},
   "outputs": [
    {
     "name": "stdout",
     "output_type": "stream",
     "text": [
      "iter= 1 | ||cnpo||= 6384.645773312219\n",
      "iter= 2 | ||cnpo||= 4544.974942943422\n",
      "iter= 3 | ||cnpo||= 3245.762011301992\n",
      "iter= 4 | ||cnpo||= 1766.2105431683399\n",
      "iter= 5 | ||cnpo||= 925.4247999778838\n",
      "iter= 6 | ||cnpo||= 401.62633331267926\n",
      "iter= 7 | ||cnpo||= 183.94385837382936\n",
      "iter= 8 | ||cnpo||= 60.58367931756964\n",
      "iter= 9 | ||cnpo||= 29.531537399251622\n",
      "iter= 10 | ||cnpo||= 1.4812009795488075\n",
      "iter= 11 | ||cnpo||= 0.0977679533531054\n",
      "iter= 12 | ||cnpo||= 0.03515128089188774\n",
      "iter= 13 | ||cnpo||= 0.01888719260592094\n",
      "iter= 14 | ||cnpo||= 0.010113206318280936\n",
      "iter= 15 | ||cnpo||= 0.0053782901374030585\n",
      "iter= 16 | ||cnpo||= 0.002846663426850382\n",
      "iter= 17 | ||cnpo||= 0.0015024630036613558\n",
      "iter= 18 | ||cnpo||= 0.0007918164163754401\n",
      "iter= 19 | ||cnpo||= 0.000416935838672274\n",
      "iter= 20 | ||cnpo||= 0.0002194092595684269\n",
      "iter= 21 | ||cnpo||= 0.00011540832638862917\n",
      "iter= 22 | ||cnpo||= 6.06789013682942e-05\n",
      "iter= 23 | ||cnpo||= 3.1890720426534436e-05\n",
      "iter= 24 | ||cnpo||= 1.6754543378258176e-05\n",
      "iter= 25 | ||cnpo||= 8.799883883979215e-06\n",
      "10.485208062507255\n",
      "22.507388614219195\n"
     ]
    }
   ],
   "source": [
    "# s y r son el número de filas de A y B, respectivamente\n",
    "# n es el número de columnas que tienen A y B y es el tamaño de nuestra w\n",
    "(s, n) = X_C.shape\n",
    "r = X_B.shape[0]\n",
    "\n",
    "# Agregamos la variable de la beta\n",
    "n += 1\n",
    "\n",
    "Q = np.eye(n)\n",
    "Q[-1][-1] = 0\n",
    "c = np.zeros(n)\n",
    "F = np.concatenate((-X_C, X_B))\n",
    "aux = np.concatenate((-np.ones(s),np.ones(r)))\n",
    "F = np.c_[F, aux]\n",
    "d = np.ones(s+r)\n",
    "\n",
    "w_hat,mu,z,iter = myqp_intpoint_proy(Q, F, c, d, verbose=True)\n",
    "\n",
    "w = w_hat[:-1]\n",
    "beta = w_hat[-1]\n",
    "\n",
    "# valor de la función objetivo sin tomar en cuenta a beta\n",
    "print(np.dot(w,w))\n",
    "\n",
    "# beta\n",
    "print(beta)\n",
    "\n",
    "# Todos tendrían que ser <= -1\n",
    "CT_w = np.dot(X_C, w) + beta\n",
    "\n",
    "# Todos tendrían que ser >= 1\n",
    "BT_w = np.dot(X_B, w) + beta"
   ]
  },
  {
   "cell_type": "code",
   "execution_count": 15,
   "metadata": {},
   "outputs": [
    {
     "name": "stderr",
     "output_type": "stream",
     "text": [
      "C:\\Users\\betom\\AppData\\Local\\Temp\\ipykernel_18248\\1570847987.py:4: MatplotlibDeprecationWarning: The seaborn styles shipped by Matplotlib are deprecated since 3.6, as they no longer correspond to the styles shipped by seaborn. However, they will remain available as 'seaborn-v0_8-<style>'. Alternatively, directly use the seaborn API instead.\n",
      "  plt.style.use('seaborn-whitegrid')\n"
     ]
    },
    {
     "data": {
      "image/png": "[encoded data removed]",
      "text/plain": [
       "<Figure size 1200x800 with 1 Axes>"
      ]
     },
     "metadata": {},
     "output_type": "display_data"
    }
   ],
   "source": [
    "# graficar\n",
    "plt.rcParams['text.usetex'] = True\n",
    "plt.rcParams['text.latex.preamble'] = r'\\usepackage{amsfonts}'\n",
    "plt.style.use('seaborn-whitegrid')\n",
    "plt.rc('font', size=16)\n",
    "\n",
    "mygreen = \"#3AC08E\"\n",
    "myblue = \"#2ab0ff\"\n",
    "\n",
    "fig, ax = plt.subplots(figsize=(12,8))\n",
    "len_C = np.arange(len(CT_w))\n",
    "ax.scatter(len_C+1, CT_w, c=mygreen, label=r\"$\\mathbb{C}^Tw+\\beta$\")\n",
    "ax.scatter(np.arange(len(CT_w), len(BT_w)+len(CT_w))+1, BT_w, color=myblue, label=r\"$\\mathbb{B}^Tw+\\beta$\")\n",
    "plt.vlines(len_C+1, ymin = CT_w, ymax = -1, colors=mygreen)\n",
    "plt.vlines(np.arange(len(CT_w), len(BT_w)+len(CT_w))+1, ymin = 1, ymax = BT_w, colors=myblue)\n",
    "ax.legend()\n",
    "ax.set_title(\"Verificación de restricciones\")\n",
    "plt.savefig('outputs/CvsB.pdf', format='pdf')"
   ]
  },
  {
   "cell_type": "markdown",
   "metadata": {},
   "source": [
    "## A vs C"
   ]
  },
  {
   "cell_type": "code",
   "execution_count": 16,
   "metadata": {},
   "outputs": [
    {
     "name": "stdout",
     "output_type": "stream",
     "text": [
      "iter= 1 | ||cnpo||= 18236.831580676848\n",
      "iter= 2 | ||cnpo||= 4564.663814364974\n",
      "iter= 3 | ||cnpo||= 1683.9035184682282\n",
      "iter= 4 | ||cnpo||= 517.2210079817628\n",
      "iter= 5 | ||cnpo||= 215.08570303706674\n",
      "iter= 6 | ||cnpo||= 22.319005151994414\n",
      "iter= 7 | ||cnpo||= 4.4967489646809575\n",
      "iter= 8 | ||cnpo||= 0.227832771962287\n",
      "iter= 9 | ||cnpo||= 0.02403914277588224\n",
      "iter= 10 | ||cnpo||= 0.01224666614635154\n",
      "iter= 11 | ||cnpo||= 0.0070151787771273386\n",
      "iter= 12 | ||cnpo||= 0.003990627966058534\n",
      "iter= 13 | ||cnpo||= 0.0029780102414332667\n",
      "iter= 14 | ||cnpo||= 0.0015767232506199928\n",
      "iter= 15 | ||cnpo||= 0.0008369078809891693\n",
      "iter= 16 | ||cnpo||= 0.00044154301884219324\n",
      "iter= 17 | ||cnpo||= 0.00023275664407231082\n",
      "iter= 18 | ||cnpo||= 0.0001224794619240181\n",
      "iter= 19 | ||cnpo||= 6.438371020876487e-05\n",
      "iter= 20 | ||cnpo||= 3.382459622905542e-05\n",
      "iter= 21 | ||cnpo||= 1.7764368641698952e-05\n",
      "iter= 22 | ||cnpo||= 9.328083514897856e-06\n",
      "0.5663484948951428\n",
      "4.662352881449469\n"
     ]
    }
   ],
   "source": [
    "# s y r son el número de filas de A y B, respectivamente\n",
    "# n es el número de columnas que tienen A y B y es el tamaño de nuestra w\n",
    "(s, n) = X_A.shape\n",
    "r = X_C.shape[0]\n",
    "\n",
    "# Agregamos la variable de la beta\n",
    "n += 1\n",
    "\n",
    "Q = np.eye(n)\n",
    "Q[-1][-1] = 0\n",
    "c = np.zeros(n)\n",
    "F = np.concatenate((-X_A, X_C))\n",
    "aux = np.concatenate((-np.ones(s),np.ones(r)))\n",
    "F = np.c_[F, aux]\n",
    "d = np.ones(s+r)\n",
    "\n",
    "w_hat,mu,z,iter = myqp_intpoint_proy(Q, F, c, d, verbose=True)\n",
    "\n",
    "w = w_hat[:-1]\n",
    "beta = w_hat[-1]\n",
    "\n",
    "# valor de la función objetivo sin tomar en cuenta a beta\n",
    "print(np.dot(w,w))\n",
    "\n",
    "# beta\n",
    "print(beta)\n",
    "\n",
    "# Todos tendrían que ser <= -1\n",
    "AT_w = np.dot(X_A, w) + beta\n",
    "\n",
    "# Todos tendrían que ser >= 1\n",
    "CT_w = np.dot(X_C, w) + beta"
   ]
  },
  {
   "cell_type": "code",
   "execution_count": 17,
   "metadata": {},
   "outputs": [
    {
     "name": "stderr",
     "output_type": "stream",
     "text": [
      "C:\\Users\\betom\\AppData\\Local\\Temp\\ipykernel_18248\\1766683111.py:4: MatplotlibDeprecationWarning: The seaborn styles shipped by Matplotlib are deprecated since 3.6, as they no longer correspond to the styles shipped by seaborn. However, they will remain available as 'seaborn-v0_8-<style>'. Alternatively, directly use the seaborn API instead.\n",
      "  plt.style.use('seaborn-whitegrid')\n"
     ]
    },
    {
     "data": {
      "image/png": "[encoded data removed]",
      "text/plain": [
       "<Figure size 1200x800 with 1 Axes>"
      ]
     },
     "metadata": {},
     "output_type": "display_data"
    }
   ],
   "source": [
    "# graficar\n",
    "plt.rcParams['text.usetex'] = True\n",
    "plt.rcParams['text.latex.preamble'] = r'\\usepackage{amsfonts}'\n",
    "plt.style.use('seaborn-whitegrid')\n",
    "plt.rc('font', size=16)\n",
    "\n",
    "fig, ax = plt.subplots(figsize=(12,8))\n",
    "len_A = np.arange(len(AT_w))\n",
    "ax.scatter(len_A+1, AT_w, c=myred, label=r\"$\\mathbb{A}^Tw+\\beta$\")\n",
    "ax.scatter(np.arange(len(AT_w), len(CT_w)+len(AT_w))+1, CT_w, color=mygreen, label=r\"$\\mathbb{C}^Tw+\\beta$\")\n",
    "plt.vlines(len_A+1, ymin = AT_w, ymax = -1, colors=myred)\n",
    "plt.vlines(np.arange(len(AT_w), len(CT_w)+len(AT_w))+1, ymin = 1, ymax = CT_w, colors=mygreen)\n",
    "ax.legend()\n",
    "ax.set_title(\"Verificación de restricciones\")\n",
    "plt.savefig('outputs/AvsC.pdf', format='pdf')"
   ]
  }
 ],
 "metadata": {
  "kernelspec": {
   "display_name": "opti-env",
   "language": "python",
   "name": "python3"
  },
  "language_info": {
   "codemirror_mode": {
    "name": "ipython",
    "version": 3
   },
   "file_extension": ".py",
   "mimetype": "text/x-python",
   "name": "python",
   "nbconvert_exporter": "python",
   "pygments_lexer": "ipython3",
   "version": "3.11.1"
  }
 },
 "nbformat": 4,
 "nbformat_minor": 2
}
